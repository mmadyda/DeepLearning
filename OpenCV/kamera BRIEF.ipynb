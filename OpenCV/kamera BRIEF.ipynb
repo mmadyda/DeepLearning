{
 "cells": [
  {
   "cell_type": "code",
   "execution_count": 4,
   "metadata": {},
   "outputs": [
    {
     "name": "stdout",
     "output_type": "stream",
     "text": [
      "shape 640, 480\n"
     ]
    }
   ],
   "source": [
    "import cv2\n",
    "import numpy as np\n",
    "cap = cv2.VideoCapture(0)\n",
    "ret, frame = cap.read()\n",
    "height, width, _ = frame.shape\n",
    "print(f'shape {width}, {height}')\n",
    "\n",
    "coords = []\n",
    "drawing = False\n",
    "roi = None\n",
    "mouse_x = None\n",
    "mouse_y = None\n",
    "wzor = None\n",
    "\n",
    "\n",
    "def click_and_crop(event, x, y, flag, image):\n",
    "    global coords, drawing, roi, mouse_x, mouse_y,wzor,wykryto_kontury\n",
    "    mouse_x = x\n",
    "    mouse_y = y\n",
    "    if event == cv2.EVENT_LBUTTONDOWN:\n",
    "        # user has clicked the mouse's left button\n",
    "        drawing = True\n",
    "        # save those starting coordinates\n",
    "        coords = [(x, y)]\n",
    "    elif event == cv2.EVENT_MOUSEMOVE:\n",
    "    # user is moving the mouse within the window\n",
    "        if drawing:\n",
    "            # if we're in drawing mode, we'll draw a green rectangle\n",
    "            # from the starting x,y coords to our current coords\n",
    "            clone = frame.copy()\n",
    "            #cv2.rectangle(frame, coords[0], (x, y), (0, 255, 0), 2)\n",
    "    elif event == cv2.EVENT_LBUTTONUP:\n",
    "    # user has released the mouse button, leave drawing mode\n",
    "    # and crop the photo\n",
    "        drawing = False\n",
    "        # save our ending coordinates\n",
    "        coords.append((x, y))\n",
    "        if len(coords) == 2:\n",
    "            # calculate the four corners of our region of interest\n",
    "            if coords[0][0] > coords[1][1]:\n",
    "                first = coords[1]\n",
    "                second = coords [0]\n",
    "                coords[0] = first\n",
    "                coords[1] = second\n",
    "            ty, by, tx, bx = coords[0][1], coords[1][1], coords[0][0], coords[1][0]\n",
    "            # crop the image using array slicing\n",
    "            wzor = frame[ty:by, tx:bx]\n",
    "            height, width = wzor.shape[:2]\n",
    "            if width > 0 and height > 0:\n",
    "                # make sure roi has height/width to prevent imshow error\n",
    "                # and show the cropped image in a new window\n",
    "                cv2.namedWindow(\"wzor\")\n",
    "                cv2.imshow(\"wzor\", wzor)\n",
    "                \n",
    "\n",
    "\n",
    "\n",
    "cv2.namedWindow('kamera')\n",
    "cv2.setMouseCallback('kamera',click_and_crop)\n",
    "wykryto_kontury = False;\n",
    "                \n",
    "while True:\n",
    "    i = 0\n",
    "    ret, frame = cap.read()\n",
    "    copy_frame = frame.copy()\n",
    "        \n",
    "    if drawing:\n",
    "        cv2.rectangle(copy_frame, coords[0], (mouse_x, mouse_y), (0, 255, 0), 2)\n",
    "        \n",
    "    cv2.imshow('kamera',copy_frame)\n",
    "    k = cv2.waitKey(1)\n",
    "    if k == 27:\n",
    "        break\n",
    "    \n",
    "    \n",
    "    \n",
    "cap.release()\n",
    "cv2.destroyAllWindows()"
   ]
  },
  {
   "cell_type": "code",
   "execution_count": null,
   "metadata": {},
   "outputs": [],
   "source": []
  }
 ],
 "metadata": {
  "kernelspec": {
   "display_name": "Python 3",
   "language": "python",
   "name": "python3"
  },
  "language_info": {
   "codemirror_mode": {
    "name": "ipython",
    "version": 3
   },
   "file_extension": ".py",
   "mimetype": "text/x-python",
   "name": "python",
   "nbconvert_exporter": "python",
   "pygments_lexer": "ipython3",
   "version": "3.7.6"
  }
 },
 "nbformat": 4,
 "nbformat_minor": 4
}

{
 "cells": [
  {
   "cell_type": "code",
   "execution_count": 1,
   "metadata": {},
   "outputs": [],
   "source": [
    "import cv2\n",
    "import numpy as np"
   ]
  },
  {
   "cell_type": "code",
   "execution_count": 3,
   "metadata": {},
   "outputs": [],
   "source": [
    "image = cv2.imread('duda.png')\n",
    "\n",
    "cv2.imshow('orginal image', image)\n",
    "cv2.waitKey(0)\n",
    "\n",
    "kernel_3x3 = np.ones((3,3), np.float32)/9\n",
    "blurred = cv2.filter2D(image,-1,kernel_3x3)\n",
    "cv2.imshow('kernel 3x3', blurred)\n",
    "cv2.waitKey(0)\n",
    "\n",
    "kernel_7x7 = np.ones((7,7), np.float32)/49\n",
    "blurred2 = cv2.filter2D(image, -1, kernel_7x7)\n",
    "cv2.imshow('kernel 7x7', blurred2)\n",
    "cv2.waitKey(0)\n",
    "\n",
    "\n",
    "\n",
    "cv2.destroyAllWindows()"
   ]
  },
  {
   "cell_type": "code",
   "execution_count": 5,
   "metadata": {},
   "outputs": [],
   "source": [
    "image = cv2.imread('duda.png')\n",
    "blur = cv2.blur(image,(3,3))\n",
    "cv2.imshow('blur', blur)\n",
    "cv2.waitKey(0)\n",
    "\n",
    "Gaussian = cv2.GaussianBlur(image,(7,7),0)\n",
    "cv2.imshow('Gaussian',Gaussian)\n",
    "cv2.waitKey(0)\n",
    "\n",
    "#do wykrywania krawędzi\n",
    "median = cv2.medianBlur(image,5)\n",
    "cv2.imshow('Median', median)\n",
    "cv2.waitKey(0)\n",
    "\n",
    "bilateral = cv2.bilateralFilter(image, 9, 75, 75)\n",
    "cv2.imshow('bilateral', bilateral)\n",
    "cv2.waitKey(0)\n",
    "\n",
    "\n",
    "cv2.destroyAllWindows()"
   ]
  },
  {
   "cell_type": "markdown",
   "metadata": {},
   "source": [
    "#### Odszumianie"
   ]
  },
  {
   "cell_type": "code",
   "execution_count": 4,
   "metadata": {},
   "outputs": [],
   "source": [
    "import cv2 \n",
    "import numpy as np\n",
    "\n",
    "image = cv2.imread('img.jpg')\n",
    "dst = cv2.fastNlMeansDenoisingColored(image, None,6,6,7,21)\n",
    "\n",
    "cv2.imshow('Fast Mean Denoising',dst)\n",
    "cv2.waitKey(0)\n",
    "cv2.destroyAllWindows()"
   ]
  },
  {
   "cell_type": "code",
   "execution_count": null,
   "metadata": {},
   "outputs": [],
   "source": []
  }
 ],
 "metadata": {
  "kernelspec": {
   "display_name": "Python 3",
   "language": "python",
   "name": "python3"
  },
  "language_info": {
   "codemirror_mode": {
    "name": "ipython",
    "version": 3
   },
   "file_extension": ".py",
   "mimetype": "text/x-python",
   "name": "python",
   "nbconvert_exporter": "python",
   "pygments_lexer": "ipython3",
   "version": "3.7.6"
  }
 },
 "nbformat": 4,
 "nbformat_minor": 4
}

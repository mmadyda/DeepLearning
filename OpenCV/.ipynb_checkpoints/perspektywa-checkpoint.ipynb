{
 "cells": [
  {
   "cell_type": "code",
   "execution_count": 1,
   "metadata": {},
   "outputs": [],
   "source": [
    "import cv2\n",
    "import numpy as np\n",
    "import matplotlib.pyplot as plt\n"
   ]
  },
  {
   "cell_type": "code",
   "execution_count": 17,
   "metadata": {},
   "outputs": [],
   "source": [
    "image = cv2.imread('persp.jpg')\n",
    "\n",
    "cv2.imshow('img',image)\n",
    "cv2.waitKey(0)\n",
    "points_A = np.float32([[133,316],[430,126],[510,626],[820,360]])\n",
    "\n",
    "points_B = np.float32([[0,0],[420,0],[0,594],[420,594]])\n",
    "\n",
    "M = cv2.getPerspectiveTransform(points_A, points_B)\n",
    "warped = cv2.warpPerspective(image,M,(420,594))\n",
    "\n",
    "def onMouse(event, x, y, flags, param):\n",
    "   if event == cv2.EVENT_LBUTTONDOWN:\n",
    "        print(x,' ',y)\n",
    "cv2.setMouseCallback('Original', onMouse)\n",
    "\n",
    "cv2.imshow('warpPerspective',warped)\n",
    "cv2.waitKey(0)\n",
    "cv2.destroyAllWindows()"
   ]
  },
  {
   "cell_type": "markdown",
   "metadata": {},
   "source": [
    "#### Affine transform"
   ]
  },
  {
   "cell_type": "code",
   "execution_count": 20,
   "metadata": {},
   "outputs": [],
   "source": [
    "import cv2\n",
    "import numpy as np\n",
    "import matplotlib.pyplot as plt\n",
    "\n",
    "image = cv2.imread('persp.jpg')\n",
    "rows, cols, ch = image.shape\n",
    "cv2.imshow('img',image)\n",
    "cv2.waitKey(0)\n",
    "\n",
    "points_A = np.float32([[133,316],[430,126],[510,626]])\n",
    "\n",
    "points_B = np.float32([[0,0],[cols,0],[0,rows]])\n",
    "\n",
    "M = cv2.getAffineTransform(points_A, points_B)\n",
    "\n",
    "warped = cv2.warpAffine(image,M,(cols, rows))\n",
    "cv2.imshow('warped', warped)\n",
    "cv2.waitKey(0)\n",
    "\n",
    "\n",
    "\n",
    "\n",
    "\n",
    "\n",
    "cv2.destroyAllWindows()\n"
   ]
  },
  {
   "cell_type": "code",
   "execution_count": null,
   "metadata": {},
   "outputs": [],
   "source": []
  }
 ],
 "metadata": {
  "kernelspec": {
   "display_name": "Python 3",
   "language": "python",
   "name": "python3"
  },
  "language_info": {
   "codemirror_mode": {
    "name": "ipython",
    "version": 3
   },
   "file_extension": ".py",
   "mimetype": "text/x-python",
   "name": "python",
   "nbconvert_exporter": "python",
   "pygments_lexer": "ipython3",
   "version": "3.7.6"
  }
 },
 "nbformat": 4,
 "nbformat_minor": 4
}

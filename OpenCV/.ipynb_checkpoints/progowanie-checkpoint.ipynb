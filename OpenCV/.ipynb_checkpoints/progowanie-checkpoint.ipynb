{
 "cells": [
  {
   "cell_type": "code",
   "execution_count": 2,
   "metadata": {},
   "outputs": [],
   "source": [
    "import cv2\n",
    "import numpy as np\n"
   ]
  },
  {
   "cell_type": "code",
   "execution_count": 3,
   "metadata": {},
   "outputs": [],
   "source": [
    "image = cv2.imread('img.jpg',0)\n",
    "\n",
    "cv2.imshow('oryginal', image)\n",
    "\n",
    "ret, thresh1 = cv2.threshold(image, 127,255, cv2.THRESH_BINARY)\n",
    "cv2.imshow('thresh binary', thresh1)\n",
    "\n",
    "ret, thresh2 = cv2.threshold(image, 127,255,cv2.THRESH_BINARY_INV)\n",
    "cv2.imshow('threshold binary inverse', thresh2)\n",
    "\n",
    "ret, thresh3 = cv2.threshold(image, 127,255,cv2.THRESH_TRUNC)\n",
    "cv2.imshow('thresh trunc', thresh3)\n",
    "\n",
    "ret, thresh4 = cv2.threshold(image,127,255,cv2.THRESH_TOZERO)\n",
    "cv2.imshow('thresh tozero', thresh4)\n",
    "\n",
    "ret, thresh5 = cv2.threshold(image, 127,255,cv2.THRESH_BINARY_INV)\n",
    "cv2.imshow('thresh tozeroinv', thresh5)\n",
    "cv2.waitKey()\n",
    "cv2.destroyAllWindows()"
   ]
  },
  {
   "cell_type": "markdown",
   "metadata": {},
   "source": [
    "### Adaptive thresholding"
   ]
  },
  {
   "cell_type": "code",
   "execution_count": 12,
   "metadata": {},
   "outputs": [],
   "source": [
    "import cv2\n",
    "import numpy as np\n",
    "\n",
    "image = cv2.imread('img.jpg',0)\n",
    "cv2.imshow('rogyginal', image)\n",
    "cv2.waitKey(0)\n",
    "\n",
    "ret, thresh1 = cv2.threshold(image, 127,255,cv2.THRESH_BINARY)\n",
    "cv2.imshow('Threshold Binary', thresh1)\n",
    "cv2.waitKey(0)\n",
    "\n",
    "image = cv2.GaussianBlur(image,(3,3),0)\n",
    "thresh = cv2.adaptiveThreshold(image,255,cv2.ADAPTIVE_THRESH_MEAN_C,cv2.THRESH_BINARY,7,5)\n",
    "cv2.imshow('adaptive mean thresholding',thresh)\n",
    "cv2.waitKey(0)\n",
    "\n",
    "\n",
    "_, th2 = cv2.threshold(image,0,255,cv2.THRESH_BINARY+cv2.THRESH_OTSU)\n",
    "cv2.imshow('otsu thresholding', th2)\n",
    "cv2.waitKey(0)\n",
    "\n",
    "blur = cv2.GaussianBlur(image,(5, 5), 0)\n",
    "_, th3 = cv2.threshold(blur,0,255,cv2.THRESH_BINARY+ cv2.THRESH_OTSU)\n",
    "cv2.imshow('gaussian otsu thresholding',th3)\n",
    "cv2.waitKey(0)\n",
    "\n",
    "\n",
    "\n",
    "\n",
    "\n",
    "cv2.destroyAllWindows()\n"
   ]
  },
  {
   "cell_type": "code",
   "execution_count": null,
   "metadata": {},
   "outputs": [],
   "source": [
    "\n"
   ]
  },
  {
   "cell_type": "code",
   "execution_count": null,
   "metadata": {},
   "outputs": [],
   "source": []
  }
 ],
 "metadata": {
  "kernelspec": {
   "display_name": "Python 3",
   "language": "python",
   "name": "python3"
  },
  "language_info": {
   "codemirror_mode": {
    "name": "ipython",
    "version": 3
   },
   "file_extension": ".py",
   "mimetype": "text/x-python",
   "name": "python",
   "nbconvert_exporter": "python",
   "pygments_lexer": "ipython3",
   "version": "3.7.6"
  }
 },
 "nbformat": 4,
 "nbformat_minor": 4
}

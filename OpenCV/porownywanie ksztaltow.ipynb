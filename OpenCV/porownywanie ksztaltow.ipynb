{
 "cells": [
  {
   "cell_type": "code",
   "execution_count": null,
   "metadata": {},
   "outputs": [
    {
     "name": "stdout",
     "output_type": "stream",
     "text": [
      "0.300819186375551\n",
      "0.2071934616924263\n",
      "0.2791348651115322\n",
      "0.13738826372321694\n",
      "0.16375897832834485\n",
      "0.2677914137446019\n"
     ]
    }
   ],
   "source": [
    "import cv2\n",
    "import numpy as np\n",
    "\n",
    "template = cv2.imread('wzor.jpg',0)\n",
    "cv2.imshow('wzor',template)\n",
    "cv2.waitKey(0)\n",
    "\n",
    "target = cv2.imread('szukaj.jpg')\n",
    "cv2.imshow('szukaj',target)\n",
    "cv2.waitKey(0)\n",
    "\n",
    "target_gray = cv2.cvtColor(target, cv2.COLOR_BGR2GRAY)\n",
    "\n",
    "ret, thresh1 = cv2.threshold(template,127,255,0)\n",
    "ret, thresh2 = cv2.threshold(target_gray, 127,255,0)\n",
    "\n",
    "contours, hierarchy = cv2.findContours(thresh1, cv2.RETR_CCOMP, cv2.CHAIN_APPROX_SIMPLE)\n",
    "\n",
    "sorted_contours = sorted(contours, key=cv2.contourArea,reverse=True)\n",
    "\n",
    "template_contour = contours[1]\n",
    "\n",
    "contours, hierarchy = cv2.findContours(thresh2, cv2.RETR_CCOMP, cv2.CHAIN_APPROX_SIMPLE)\n",
    "\n",
    "for c in contours:\n",
    "    match = cv2.matchShapes(template_contour,c,1,0.0)\n",
    "    print(match)\n",
    "    \n",
    "    if match < 0.16:\n",
    "        closet_contour = c\n",
    "        cv2.drawContours(target, [closet_contour], -1,(0,255,0),3)\n",
    "    else:\n",
    "        closet_contour = []\n",
    "        \n",
    "\n",
    "cv2.imshow('Output',target)\n",
    "cv2.waitKey(0)\n",
    "\n",
    "cv2.destroyAllWindows()\n"
   ]
  },
  {
   "cell_type": "code",
   "execution_count": null,
   "metadata": {},
   "outputs": [],
   "source": []
  }
 ],
 "metadata": {
  "kernelspec": {
   "display_name": "Python 3",
   "language": "python",
   "name": "python3"
  },
  "language_info": {
   "codemirror_mode": {
    "name": "ipython",
    "version": 3
   },
   "file_extension": ".py",
   "mimetype": "text/x-python",
   "name": "python",
   "nbconvert_exporter": "python",
   "pygments_lexer": "ipython3",
   "version": "3.7.6"
  }
 },
 "nbformat": 4,
 "nbformat_minor": 4
}

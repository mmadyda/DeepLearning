{
 "cells": [
  {
   "cell_type": "code",
   "execution_count": 4,
   "metadata": {},
   "outputs": [
    {
     "name": "stdout",
     "output_type": "stream",
     "text": [
      "liczba kontorow: 4\n"
     ]
    }
   ],
   "source": [
    "import cv2\n",
    "import numpy as np\n",
    "\n",
    "image = cv2.imread('shapes.jpg')\n",
    "cv2.imshow('shapes',image)\n",
    "cv2.waitKey(0)\n",
    "\n",
    "blank_image = np.zeros((image.shape[0], image.shape[1],3))\n",
    "orginal_image = image\n",
    "\n",
    "gray = cv2.cvtColor(image, cv2.COLOR_BGR2GRAY)\n",
    "\n",
    "edged = cv2.Canny(gray,50,200)\n",
    "cv2.imshow('Canny Edges', edged)\n",
    "cv2.waitKey(0)\n",
    "\n",
    "contours, hierarchy = cv2.findContours(edged.copy(), cv2.RETR_EXTERNAL, cv2.CHAIN_APPROX_NONE)\n",
    "print(f'liczba kontorow: {len(contours)}')\n",
    "\n",
    "cv2.drawContours(blank_image, contours, -1,(0,255,0),3)\n",
    "cv2.imshow('wszystkie kontury',blank_image)\n",
    "cv2.waitKey(0)\n",
    "\n",
    "cv2.drawContours(image, contours,-1,(0,255,0),3)\n",
    "cv2.imshow('kontury',image)\n",
    "cv2.waitKey(0)\n",
    "\n",
    "cv2.destroyAllWindows()"
   ]
  },
  {
   "cell_type": "markdown",
   "metadata": {},
   "source": [
    "#### Sortowanie powierzchni konturów"
   ]
  },
  {
   "cell_type": "code",
   "execution_count": 10,
   "metadata": {},
   "outputs": [
    {
     "name": "stdout",
     "output_type": "stream",
     "text": [
      "powierzchia konturow przed sortowaniem: [14629.5, 33441.0, 23442.0, 52590.0]\n",
      "powierzchnia kontorow po sortowaniu: [14629.5, 33441.0, 23442.0, 52590.0]\n"
     ]
    }
   ],
   "source": [
    "import cv2\n",
    "import numpy as np\n",
    "\n",
    "def get_contours_area(contours):\n",
    "    all_areas =[]\n",
    "    for cnt in contours:\n",
    "        area = cv2.contourArea(cnt)\n",
    "        all_areas.append(area)\n",
    "    return all_areas\n",
    "\n",
    "image = cv2.imread('shapes.jpg')\n",
    "orginal_image = image\n",
    "\n",
    "print(f'powierzchia konturow przed sortowaniem: {get_contours_area(contours)}')\n",
    "\n",
    "sorted_contours = sorted(contours, key=cv2.contourArea, reverse=True)\n",
    "\n",
    "print(f'powierzchnia kontorow po sortowaniu: {get_contours_area(contours)}')\n",
    "\n",
    "for c in sorted_contours:\n",
    "    cv2.drawContours(orginal_image,[c],-1,(255,0,0),3)\n",
    "    cv2.waitKey(0)\n",
    "    cv2.imshow('kontury powierzchnia', orginal_image)\n",
    "    \n",
    "cv2.waitKey(0)\n",
    "cv2.destroyAllWindows()\n"
   ]
  },
  {
   "cell_type": "code",
   "execution_count": 14,
   "metadata": {},
   "outputs": [
    {
     "name": "stdout",
     "output_type": "stream",
     "text": [
      "{'m00': 52590.0, 'm10': 7835910.0, 'm01': 17749125.0, 'm20': 1415718658.6666665, 'm11': 2644619625.0, 'm02': 6204311422.0, 'm30': 284896164604.0, 'm21': 477805047300.0, 'm12': 924442401878.0, 'm03': 2238392775712.5, 'mu20': 248168068.6666665, 'mu11': 0.0, 'mu02': 213981734.5, 'mu30': 6.103515625e-05, 'mu21': 6.103515625e-05, 'mu12': 0.0, 'mu03': 0.0, 'nu20': 0.08973039080540225, 'nu11': 0.0, 'nu02': 0.07736960183903718, 'nu30': 9.623258094503597e-17, 'nu21': 9.623258094503597e-17, 'nu12': 0.0, 'nu03': 0.0}\n",
      "ksztalt nr1.jpg\n",
      "{'m00': 23442.0, 'm10': 10901597.5, 'm01': 9143596.666666666, 'm20': 5131848629.166666, 'm11': 4252190621.9166665, 'm02': 3611323579.333333, 'm30': 2444310847397.75, 'm21': 2003218110909.8833, 'm12': 1679431195618.25, 'm03': 1442481814311.4001, 'mu20': 62109355.554932594, 'mu11': 1791.5121932029724, 'mu02': 44846316.18693924, 'mu30': 183777.31298828125, 'mu21': 1529130439.9608612, 'mu12': -118513.69924926758, 'mu03': -1106595237.5014648, 'nu20': 0.11302322618265939, 'nu11': 3.2600964220645662e-06, 'nu02': 0.08160888633552967, 'nu30': 2.184264580359565e-06, 'nu21': 0.018174307831833016, 'nu12': -1.4085812407871474e-06, 'nu03': -0.013152313214107984}\n",
      "ksztalt nr2.jpg\n",
      "{'m00': 14629.5, 'm10': 10101639.666666666, 'm01': 5698160.666666666, 'm20': 6993587217.75, 'm11': 3934570002.7916665, 'm02': 2236668994.4166665, 'm30': 4854503551941.8, 'm21': 2723990467241.183, 'm12': 1544416657937.1833, 'm03': 884613345943.3, 'mu20': 18425800.39647293, 'mu11': 1779.8558340072632, 'mu02': 17246937.39851141, 'mu30': 4762.0224609375, 'mu21': -69825.0460805893, 'mu12': -69839.69565963745, 'mu03': 1061.5711669921875, 'nu20': 0.0860929116159253, 'nu11': 8.316217896054501e-06, 'nu02': 0.0805847792305222, 'nu30': 1.8395759847535667e-07, 'nu21': -2.697351366101611e-06, 'nu12': -2.6979172814038763e-06, 'nu03': 4.1008643720701605e-08}\n",
      "ksztalt nr3.jpg\n",
      "{'m00': 33441.0, 'm10': 30582590.5, 'm01': 13528045.5, 'm20': 28057498952.0, 'm11': 12371710175.916666, 'm02': 5561559664.333333, 'm30': 25822021276083.25, 'm21': 11350215730112.666, 'm12': 5086171001768.333, 'm03': 2321847007514.75, 'mu20': 88991978.80271912, 'mu11': -9443.468751907349, 'mu02': 88995594.77589607, 'mu30': 62775.8828125, 'mu21': 580225.3178329468, 'mu12': -53292.038635253906, 'mu03': -577812.2983398438, 'nu20': 0.07957787760507913, 'nu11': -8.444482419843785e-06, 'nu02': 0.07958111105909117, 'nu30': 3.0696912004371403e-07, 'nu21': 2.837256080878217e-06, 'nu12': -2.6059386936956115e-07, 'nu03': -2.825456605709408e-06}\n",
      "ksztalt nr4.jpg\n"
     ]
    }
   ],
   "source": [
    "import cv2\n",
    "import numpy as np\n",
    "\n",
    "def x_cord_contour(contours):\n",
    "    if cv2.contourArea(contours) > 10:\n",
    "        M = cv2.moments(contours)\n",
    "        return (int(M['m10']/M['m00']))\n",
    "    \n",
    "def label_contour_center(image, c, i):\n",
    "    M = cv2.moments(c)\n",
    "    cx = int(M['m10']/ M['m00'])\n",
    "    cy = int(M['m01']/ M['m00'])\n",
    "    \n",
    "    cv2.circle(image,(cx,cy),10,(0,0,255),-1)\n",
    "    return image\n",
    "\n",
    "image = cv2.imread('shapes.jpg')\n",
    "orginal_image = image.copy()\n",
    "\n",
    "for (i, c) in enumerate(contours):\n",
    "    orig = label_contour_center(image, c, i)\n",
    "    \n",
    "cv2.imshow('srodki kontorow',image)\n",
    "cv2.waitKey(0)\n",
    "\n",
    "contours_left_to_right = sorted(contours, key=x_cord_contour, reverse = False)\n",
    "\n",
    "for (i, c) in enumerate(contours_left_to_right):\n",
    "    cv2.drawContours(orginal_image, [c], -1, (0,0,255),3)\n",
    "    M = cv2.moments(c)\n",
    "    print(M)\n",
    "    cx = int(M['m10']/M['m00'])\n",
    "    cy = int(M['m01']/M['m00'])\n",
    "    \n",
    "    cv2.putText(orginal_image,str(i+1),(cx,cy), cv2.FONT_HERSHEY_SIMPLEX,1,(0,255,0),2)\n",
    "    cv2.imshow('kontury od lewej do prawej',orginal_image)\n",
    "    cv2.waitKey(0)\n",
    "    \n",
    "    ##Wycina z konturu obrazek\n",
    "    (x, y, w, h) = cv2.boundingRect(c)\n",
    "    \n",
    "    cropped_contour = orginal_image[y:y+h,x:x+w]\n",
    "    image_name = 'ksztalt nr'+str(i+1)+'.jpg'\n",
    "    print(image_name)\n",
    "    cv2.imwrite(image_name,cropped_contour)\n",
    "    \n",
    "\n",
    "\n",
    "cv2.destroyAllWindows()"
   ]
  },
  {
   "cell_type": "code",
   "execution_count": null,
   "metadata": {},
   "outputs": [],
   "source": []
  },
  {
   "cell_type": "code",
   "execution_count": null,
   "metadata": {},
   "outputs": [],
   "source": []
  }
 ],
 "metadata": {
  "kernelspec": {
   "display_name": "Python 3",
   "language": "python",
   "name": "python3"
  },
  "language_info": {
   "codemirror_mode": {
    "name": "ipython",
    "version": 3
   },
   "file_extension": ".py",
   "mimetype": "text/x-python",
   "name": "python",
   "nbconvert_exporter": "python",
   "pygments_lexer": "ipython3",
   "version": "3.7.6"
  }
 },
 "nbformat": 4,
 "nbformat_minor": 4
}
